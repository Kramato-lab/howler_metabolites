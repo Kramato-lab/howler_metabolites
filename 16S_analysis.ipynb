{
 "cells": [
  {
   "cell_type": "markdown",
   "id": "c985eb07",
   "metadata": {},
   "source": [
    "## 16S analysis for seasonal comparison of howler metabolites and microbiome\n",
    "\n",
    "The following is code used for an analysis of howler metabolites across seasons. Previously published 16S rRNA gene sequencing data was used to contextualize the metabolome data and was reanalyzed for this analysis using more recent methods.\n",
    "\n",
    "### Converting 454 sequencing files to fastq files\n",
    "Sequencing was performed on the 454 platform, so we converted the .fna and .qual files to .fastq files in QIIME1."
   ]
  },
  {
   "cell_type": "code",
   "execution_count": null,
   "id": "b7ded8df",
   "metadata": {},
   "outputs": [],
   "source": [
    "source /macqiime/configs/bash_profile.txt\n",
    "\n",
    "cat file-list.txt | while read i; do \n",
    "convert_fastaqual_fastq.py -f ${i}.fasta -q ${i}.fasta.qual -o ./Seqs_fastq\n",
    "done"
   ]
  },
  {
   "cell_type": "markdown",
   "id": "779fa80f",
   "metadata": {},
   "source": [
    "### Importing sequences\n",
    "Fastq files were then imported into QIIME2 (v.2019-4) using the manifest import option."
   ]
  },
  {
   "cell_type": "code",
   "execution_count": null,
   "id": "23166500",
   "metadata": {},
   "outputs": [],
   "source": [
    "source activate qiime2-2019.4\n",
    "\n",
    "qiime tools import --type 'SampleData[SequencesWithQuality]' --input-path ./Manifest.csv \\\n",
    "    --output-path howlers-demux.qza --input-format SingleEndFastqManifestPhred33V2\n",
    "\n",
    "qiime demux summarize --i-data howlers-demux.qza --o-visualization howlers-demux.qzv"
   ]
  },
  {
   "cell_type": "markdown",
   "id": "f330e2a5",
   "metadata": {},
   "source": [
    "### Denoising\n",
    "The DADA2 algorithm was used to denoise sequences, using the 454 parameters suggested by QIIME2. Truncation length was set to 250bp, trim length was set to 10bp, and the max errors allowed were 3."
   ]
  },
  {
   "cell_type": "code",
   "execution_count": null,
   "id": "ebd86cc3",
   "metadata": {},
   "outputs": [],
   "source": [
    "qiime dada2 denoise-pyro --i-demultiplexed-seqs ./howlers-demux.qza --p-trunc-len 250 --p-trim-left 10 \\\n",
    "    --p-max-ee 3 --p-n-threads 8 --o-table ./table.qza --o-representative-sequences ./rep-seqs.qza \\\n",
    "    --o-denoising-stats ./dada2-stats.qza\n",
    "    \n",
    "qiime metadata tabulate --m-input-file dada2-stats.qza --o-visualization dada2-stats.qzv\n",
    "\n",
    "qiime feature-table summarize --i-table table.qza --o-visualization table.qzv --m-sample-metadata-file howler_map.txt"
   ]
  },
  {
   "cell_type": "markdown",
   "id": "ae5afac7",
   "metadata": {},
   "source": [
    "### Phylogenetic tree\n",
    "A phylogenetic tree was constructed from the representative sequences uses QIIME2's MAFFT/FastTree workflow."
   ]
  },
  {
   "cell_type": "code",
   "execution_count": null,
   "id": "46842072",
   "metadata": {},
   "outputs": [],
   "source": [
    "qiime phylogeny align-to-tree-mafft-fasttree --i-sequences rep-seqs.qza --o-alignment aligned-rep-seqs.qza \\\n",
    "    --o-masked-alignment masked-aligned-rep-seqs.qza --o-tree unrooted-tree.qza --o-rooted-tree rooted-tree.qza"
   ]
  },
  {
   "cell_type": "markdown",
   "id": "ee18246c",
   "metadata": {},
   "source": [
    "### Taxonomic assignment\n",
    "Taxonomy was assigned using a naive Bayesian classifier trained on the GreenGenes 13_8 database."
   ]
  },
  {
   "cell_type": "code",
   "execution_count": null,
   "id": "e3463b03",
   "metadata": {},
   "outputs": [],
   "source": [
    "qiime feature-classifier classify-sklearn --i-classifier ./gg-13-8-99-nb-classifier-qiime2019-4.qza \\\n",
    "    --i-reads ./rep-seqs.qza --o-classification ./taxonomy.qza"
   ]
  },
  {
   "cell_type": "markdown",
   "id": "b0741a5a",
   "metadata": {},
   "source": [
    "### Feature table filtering, collapsing, and exporting\n",
    "Mitochondrial and chloroplast sequences were filtered out of the feature table. Taxa bar plots were constructed to visualized the data. Feature tables were collapsed at the level of phyla, families, genera, and ASVs and exported."
   ]
  },
  {
   "cell_type": "code",
   "execution_count": null,
   "id": "e49d9c67",
   "metadata": {},
   "outputs": [],
   "source": [
    "qiime taxa filter-table --i-table table.qza --i-taxonomy taxonomy.qza --p-exclude mitochondria,chloroplast \\\n",
    "    --o-filtered-table table-nomito-nochloro.qza\n",
    "\n",
    "qiime feature-table summarize --i-table table-nomito-nochloro.qza --o-visualization table-nomito-nochloro.qzv \\\n",
    "    --m-sample-metadata-file howler_map.txt\n",
    "    \n",
    "qiime taxa barplot --i-table table-nomito-nochloro.qza --i-taxonomy taxonomy.qza --m-metadata-file howler_map.txt \\\n",
    "    --o-visualization taxa-plots-nomito-nochloro.qzv\n",
    "\n",
    "qiime taxa collapse --i-table table-nomito-nochloro.qza --i-taxonomy taxonomy.qza --p-level 2 \\\n",
    "    --o-collapsed-table table-filtered-level2.qza\n",
    "\n",
    "qiime taxa collapse --i-table table-nomito-nochloro.qza --i-taxonomy taxonomy.qza --p-level 5 \\\n",
    "    --o-collapsed-table table-filtered-level5.qza\n",
    "\n",
    "qiime taxa collapse --i-table table-nomito-nochloro.qza --i-taxonomy taxonomy.qza --p-level 6 \\\n",
    "    --o-collapsed-table table-filtered-level6.qza\n",
    "\n",
    "qiime taxa collapse --i-table table-nomito-nochloro.qza --i-taxonomy taxonomy.qza --p-level 7 \\\n",
    "    --o-collapsed-table table-filtered-level7.qza\n",
    "\n",
    "qiime tools export --input-path table-filtered-level2.qza --output-path ./output-tables\n",
    "\n",
    "qiime tools export --input-path table-filtered-level5.qza --output-path ./output-tables\n",
    "\n",
    "qiime tools export --input-path table-filtered-level6.qza --output-path ./output-tables\n",
    "\n",
    "qiime tools export --input-path table-filtered-level7.qza --output-path ./output-tables\n",
    "\n",
    "qiime tools export --input-path table-nomito-nochloro.qza --output-path ./output-tables\n",
    "qiime tools export --input-path taxonomy.qza --output-path ./output-tables #edit taxonomy header\n",
    "\n",
    "biom add-metadata -i ./output-tables/feature-table.biom -o ./output-tables/table-with-taxonomy.biom \\\n",
    "    --observation-metadata-fp ./output-tables/biom-taxonomy.tsv --sc-separated taxonomy\n",
    "    \n",
    "biom convert -i ./output-tables/table-with-taxonomy.biom -o ./output-tables/table-with-taxonomy.tsv \\\n",
    "    --to-tsv --header-key taxonomy"
   ]
  },
  {
   "cell_type": "markdown",
   "id": "8f9a58d7",
   "metadata": {},
   "source": [
    "### Diversity analyses\n",
    "QIIME2 was used to perform core diversity analyses. Samples were rarefied to 2452 ASVs prior to calculating diversity indices."
   ]
  },
  {
   "cell_type": "code",
   "execution_count": null,
   "id": "9170a704",
   "metadata": {},
   "outputs": [],
   "source": [
    "qiime diversity core-metrics-phylogenetic --i-phylogeny rooted-tree.qza --i-table table-nomito-nochloro.qza \\\n",
    "    --p-sampling-depth 2452 --m-metadata-file howler_map.txt --output-dir core-metrics-2452"
   ]
  }
 ],
 "metadata": {
  "kernelspec": {
   "display_name": "Bash",
   "language": "bash",
   "name": "bash"
  }
 },
 "nbformat": 4,
 "nbformat_minor": 5
}
